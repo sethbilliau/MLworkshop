{
 "cells": [
  {
   "cell_type": "markdown",
   "metadata": {},
   "source": [
    "# Intro to ML Workshop \n",
    "## Harvard Open Data Project \n",
    "\n",
    "Author: Seth Billiau "
   ]
  },
  {
   "cell_type": "code",
   "execution_count": 39,
   "metadata": {},
   "outputs": [],
   "source": [
    "# Basic imports - I'll also import along the way\n",
    "import qgrid\n",
    "import numpy as np\n",
    "import pandas as pd\n",
    "import seaborn as sns\n",
    "from pprint import pprint"
   ]
  },
  {
   "cell_type": "markdown",
   "metadata": {},
   "source": [
    "## EDA \n",
    "\n",
    "First things first: always look at your data! Do some basic EDA. I like to use the package sweetviz to automate my EDA for single variable predictors. \n"
   ]
  },
  {
   "cell_type": "code",
   "execution_count": 2,
   "metadata": {},
   "outputs": [
    {
     "data": {
      "text/html": [
       "<div>\n",
       "<style scoped>\n",
       "    .dataframe tbody tr th:only-of-type {\n",
       "        vertical-align: middle;\n",
       "    }\n",
       "\n",
       "    .dataframe tbody tr th {\n",
       "        vertical-align: top;\n",
       "    }\n",
       "\n",
       "    .dataframe thead th {\n",
       "        text-align: right;\n",
       "    }\n",
       "</style>\n",
       "<table border=\"1\" class=\"dataframe\">\n",
       "  <thead>\n",
       "    <tr style=\"text-align: right;\">\n",
       "      <th></th>\n",
       "      <th>dataset_id</th>\n",
       "      <th>title</th>\n",
       "    </tr>\n",
       "  </thead>\n",
       "  <tbody>\n",
       "    <tr>\n",
       "      <th>0</th>\n",
       "      <td>AirPassengers</td>\n",
       "      <td>Monthly Airline Passenger Numbers 1949-1960</td>\n",
       "    </tr>\n",
       "    <tr>\n",
       "      <th>1</th>\n",
       "      <td>BJsales</td>\n",
       "      <td>Sales Data with Leading Indicator</td>\n",
       "    </tr>\n",
       "    <tr>\n",
       "      <th>2</th>\n",
       "      <td>BOD</td>\n",
       "      <td>Biochemical Oxygen Demand</td>\n",
       "    </tr>\n",
       "    <tr>\n",
       "      <th>3</th>\n",
       "      <td>Formaldehyde</td>\n",
       "      <td>Determination of Formaldehyde</td>\n",
       "    </tr>\n",
       "    <tr>\n",
       "      <th>4</th>\n",
       "      <td>HairEyeColor</td>\n",
       "      <td>Hair and Eye Color of Statistics Students</td>\n",
       "    </tr>\n",
       "    <tr>\n",
       "      <th>...</th>\n",
       "      <td>...</td>\n",
       "      <td>...</td>\n",
       "    </tr>\n",
       "    <tr>\n",
       "      <th>752</th>\n",
       "      <td>VerbAgg</td>\n",
       "      <td>Verbal Aggression item responses</td>\n",
       "    </tr>\n",
       "    <tr>\n",
       "      <th>753</th>\n",
       "      <td>cake</td>\n",
       "      <td>Breakage Angle of Chocolate Cakes</td>\n",
       "    </tr>\n",
       "    <tr>\n",
       "      <th>754</th>\n",
       "      <td>cbpp</td>\n",
       "      <td>Contagious bovine pleuropneumonia</td>\n",
       "    </tr>\n",
       "    <tr>\n",
       "      <th>755</th>\n",
       "      <td>grouseticks</td>\n",
       "      <td>Data on red grouse ticks from Elston et al. 2001</td>\n",
       "    </tr>\n",
       "    <tr>\n",
       "      <th>756</th>\n",
       "      <td>sleepstudy</td>\n",
       "      <td>Reaction times in a sleep deprivation study</td>\n",
       "    </tr>\n",
       "  </tbody>\n",
       "</table>\n",
       "<p>757 rows × 2 columns</p>\n",
       "</div>"
      ],
      "text/plain": [
       "        dataset_id                                             title\n",
       "0    AirPassengers       Monthly Airline Passenger Numbers 1949-1960\n",
       "1          BJsales                 Sales Data with Leading Indicator\n",
       "2              BOD                         Biochemical Oxygen Demand\n",
       "3     Formaldehyde                     Determination of Formaldehyde\n",
       "4     HairEyeColor         Hair and Eye Color of Statistics Students\n",
       "..             ...                                               ...\n",
       "752        VerbAgg                  Verbal Aggression item responses\n",
       "753           cake                 Breakage Angle of Chocolate Cakes\n",
       "754           cbpp                 Contagious bovine pleuropneumonia\n",
       "755    grouseticks  Data on red grouse ticks from Elston et al. 2001\n",
       "756     sleepstudy       Reaction times in a sleep deprivation study\n",
       "\n",
       "[757 rows x 2 columns]"
      ]
     },
     "execution_count": 2,
     "metadata": {},
     "output_type": "execute_result"
    }
   ],
   "source": [
    "# Import package\n",
    "from pydataset import data\n",
    "# Check out datasets\n",
    "data()"
   ]
  },
  {
   "cell_type": "code",
   "execution_count": 3,
   "metadata": {},
   "outputs": [
    {
     "data": {
      "text/html": [
       "<div>\n",
       "<style scoped>\n",
       "    .dataframe tbody tr th:only-of-type {\n",
       "        vertical-align: middle;\n",
       "    }\n",
       "\n",
       "    .dataframe tbody tr th {\n",
       "        vertical-align: top;\n",
       "    }\n",
       "\n",
       "    .dataframe thead th {\n",
       "        text-align: right;\n",
       "    }\n",
       "</style>\n",
       "<table border=\"1\" class=\"dataframe\">\n",
       "  <thead>\n",
       "    <tr style=\"text-align: right;\">\n",
       "      <th></th>\n",
       "      <th>npreg</th>\n",
       "      <th>glu</th>\n",
       "      <th>bp</th>\n",
       "      <th>skin</th>\n",
       "      <th>bmi</th>\n",
       "      <th>ped</th>\n",
       "      <th>age</th>\n",
       "      <th>type</th>\n",
       "    </tr>\n",
       "  </thead>\n",
       "  <tbody>\n",
       "    <tr>\n",
       "      <th>1</th>\n",
       "      <td>6</td>\n",
       "      <td>148</td>\n",
       "      <td>72</td>\n",
       "      <td>35</td>\n",
       "      <td>33.6</td>\n",
       "      <td>0.627</td>\n",
       "      <td>50</td>\n",
       "      <td>Yes</td>\n",
       "    </tr>\n",
       "    <tr>\n",
       "      <th>2</th>\n",
       "      <td>1</td>\n",
       "      <td>85</td>\n",
       "      <td>66</td>\n",
       "      <td>29</td>\n",
       "      <td>26.6</td>\n",
       "      <td>0.351</td>\n",
       "      <td>31</td>\n",
       "      <td>No</td>\n",
       "    </tr>\n",
       "    <tr>\n",
       "      <th>3</th>\n",
       "      <td>1</td>\n",
       "      <td>89</td>\n",
       "      <td>66</td>\n",
       "      <td>23</td>\n",
       "      <td>28.1</td>\n",
       "      <td>0.167</td>\n",
       "      <td>21</td>\n",
       "      <td>No</td>\n",
       "    </tr>\n",
       "    <tr>\n",
       "      <th>4</th>\n",
       "      <td>3</td>\n",
       "      <td>78</td>\n",
       "      <td>50</td>\n",
       "      <td>32</td>\n",
       "      <td>31.0</td>\n",
       "      <td>0.248</td>\n",
       "      <td>26</td>\n",
       "      <td>Yes</td>\n",
       "    </tr>\n",
       "    <tr>\n",
       "      <th>5</th>\n",
       "      <td>2</td>\n",
       "      <td>197</td>\n",
       "      <td>70</td>\n",
       "      <td>45</td>\n",
       "      <td>30.5</td>\n",
       "      <td>0.158</td>\n",
       "      <td>53</td>\n",
       "      <td>Yes</td>\n",
       "    </tr>\n",
       "  </tbody>\n",
       "</table>\n",
       "</div>"
      ],
      "text/plain": [
       "   npreg  glu  bp  skin   bmi    ped  age type\n",
       "1      6  148  72    35  33.6  0.627   50  Yes\n",
       "2      1   85  66    29  26.6  0.351   31   No\n",
       "3      1   89  66    23  28.1  0.167   21   No\n",
       "4      3   78  50    32  31.0  0.248   26  Yes\n",
       "5      2  197  70    45  30.5  0.158   53  Yes"
      ]
     },
     "execution_count": 3,
     "metadata": {},
     "output_type": "execute_result"
    }
   ],
   "source": [
    "pima = data(\"Pima.te\")\n",
    "pima.head()"
   ]
  },
  {
   "cell_type": "code",
   "execution_count": 4,
   "metadata": {},
   "outputs": [
    {
     "data": {
      "text/plain": [
       "(332, 8)"
      ]
     },
     "execution_count": 4,
     "metadata": {},
     "output_type": "execute_result"
    }
   ],
   "source": [
    "pima.shape"
   ]
  },
  {
   "cell_type": "markdown",
   "metadata": {},
   "source": [
    "### importing sweetviz\n",
    "import sweetviz as sv\n",
    "#analyzing the dataset\n",
    "report = sv.analyze(pima)\n",
    "#display the report\n",
    "report.show_html('pima.html')"
   ]
  },
  {
   "cell_type": "code",
   "execution_count": 5,
   "metadata": {},
   "outputs": [
    {
     "data": {
      "text/html": [
       "<div>\n",
       "<style scoped>\n",
       "    .dataframe tbody tr th:only-of-type {\n",
       "        vertical-align: middle;\n",
       "    }\n",
       "\n",
       "    .dataframe tbody tr th {\n",
       "        vertical-align: top;\n",
       "    }\n",
       "\n",
       "    .dataframe thead th {\n",
       "        text-align: right;\n",
       "    }\n",
       "</style>\n",
       "<table border=\"1\" class=\"dataframe\">\n",
       "  <thead>\n",
       "    <tr style=\"text-align: right;\">\n",
       "      <th></th>\n",
       "      <th>Sepal.Length</th>\n",
       "      <th>Sepal.Width</th>\n",
       "      <th>Petal.Length</th>\n",
       "      <th>Petal.Width</th>\n",
       "      <th>Species</th>\n",
       "    </tr>\n",
       "  </thead>\n",
       "  <tbody>\n",
       "    <tr>\n",
       "      <th>1</th>\n",
       "      <td>5.1</td>\n",
       "      <td>3.5</td>\n",
       "      <td>1.4</td>\n",
       "      <td>0.2</td>\n",
       "      <td>setosa</td>\n",
       "    </tr>\n",
       "    <tr>\n",
       "      <th>2</th>\n",
       "      <td>4.9</td>\n",
       "      <td>3.0</td>\n",
       "      <td>1.4</td>\n",
       "      <td>0.2</td>\n",
       "      <td>setosa</td>\n",
       "    </tr>\n",
       "    <tr>\n",
       "      <th>3</th>\n",
       "      <td>4.7</td>\n",
       "      <td>3.2</td>\n",
       "      <td>1.3</td>\n",
       "      <td>0.2</td>\n",
       "      <td>setosa</td>\n",
       "    </tr>\n",
       "    <tr>\n",
       "      <th>4</th>\n",
       "      <td>4.6</td>\n",
       "      <td>3.1</td>\n",
       "      <td>1.5</td>\n",
       "      <td>0.2</td>\n",
       "      <td>setosa</td>\n",
       "    </tr>\n",
       "    <tr>\n",
       "      <th>5</th>\n",
       "      <td>5.0</td>\n",
       "      <td>3.6</td>\n",
       "      <td>1.4</td>\n",
       "      <td>0.2</td>\n",
       "      <td>setosa</td>\n",
       "    </tr>\n",
       "  </tbody>\n",
       "</table>\n",
       "</div>"
      ],
      "text/plain": [
       "   Sepal.Length  Sepal.Width  Petal.Length  Petal.Width Species\n",
       "1           5.1          3.5           1.4          0.2  setosa\n",
       "2           4.9          3.0           1.4          0.2  setosa\n",
       "3           4.7          3.2           1.3          0.2  setosa\n",
       "4           4.6          3.1           1.5          0.2  setosa\n",
       "5           5.0          3.6           1.4          0.2  setosa"
      ]
     },
     "execution_count": 5,
     "metadata": {},
     "output_type": "execute_result"
    }
   ],
   "source": [
    "iris = data('iris')\n",
    "iris.head()"
   ]
  },
  {
   "cell_type": "code",
   "execution_count": 6,
   "metadata": {},
   "outputs": [
    {
     "data": {
      "text/plain": [
       "(150, 5)"
      ]
     },
     "execution_count": 6,
     "metadata": {},
     "output_type": "execute_result"
    }
   ],
   "source": [
    "iris.shape"
   ]
  },
  {
   "cell_type": "code",
   "execution_count": 7,
   "metadata": {},
   "outputs": [
    {
     "data": {
      "application/vnd.jupyter.widget-view+json": {
       "model_id": "cbc65e11409a4dffa0245ec0e3c235a3",
       "version_major": 2,
       "version_minor": 0
      },
      "text/plain": [
       "QgridWidget(grid_options={'fullWidthRows': True, 'syncColumnCellResize': True, 'forceFitColumns': True, 'defau…"
      ]
     },
     "metadata": {},
     "output_type": "display_data"
    }
   ],
   "source": [
    "# This will only work in a jupyter notebook, not jupyter lab\n",
    "df_widget = qgrid.show_grid(iris, show_toolbar = True)\n",
    "df_widget"
   ]
  },
  {
   "cell_type": "code",
   "execution_count": 447,
   "metadata": {},
   "outputs": [
    {
     "data": {
      "application/vnd.jupyter.widget-view+json": {
       "model_id": "d5ccb2204c444c36a5e1268b2385eaf0",
       "version_major": 2,
       "version_minor": 0
      },
      "text/plain": [
       "                                             |          | [  0%]   00:00 -> (? left)"
      ]
     },
     "metadata": {},
     "output_type": "display_data"
    },
    {
     "name": "stdout",
     "output_type": "stream",
     "text": [
      "Report iris.html was generated! NOTEBOOK/COLAB USERS: the web browser MAY not pop up, regardless, the report IS saved in your notebook/colab files.\n"
     ]
    }
   ],
   "source": [
    "#analyzing the dataset\n",
    "report = sv.analyze(iris)\n",
    "#display the report\n",
    "report.show_html('iris.html')"
   ]
  },
  {
   "cell_type": "markdown",
   "metadata": {},
   "source": [
    "## So we have a dataset... now what? \n",
    "\n",
    "We ask questions! \n",
    "\n",
    "Iris: \n",
    "- Can we use Sepal/Petal features to predict flower species?\n",
    "- Can we use Sepal length to predict petal length? \n",
    "\n",
    "Pima: \n",
    "- Can we use demographic features to predict whether or not Akimel Oʼotham Native Americans have diabetes?\n",
    "\n",
    "The last of these questions is a prediction question which leads us to supervised learning. \n",
    "\n",
    "## Train-Test Split\n",
    "\n",
    "First, we split our dataset into \"training\" and \"testing\" data. We set aside our testing dataset - we won't look at again until we've fully trained our models using only the training dataset. We do this for *generalizability*. We want our predictions to perform well on new, out of sample data (future Akimel Oʼotham Native Americans or iris flowers). Setting aside a testing dataset to evaluate our models imitates out of sample data. Let's do that train-test split now. "
   ]
  },
  {
   "cell_type": "code",
   "execution_count": 8,
   "metadata": {},
   "outputs": [],
   "source": [
    "from sklearn.model_selection import train_test_split"
   ]
  },
  {
   "cell_type": "code",
   "execution_count": 9,
   "metadata": {},
   "outputs": [],
   "source": [
    "# y = iris[\"Species\"]\n",
    "# X = iris.drop(columns = \"Species\")\n",
    "\n",
    "y = pima[\"type\"]\n",
    "X = pima.drop(columns = \"type\")\n"
   ]
  },
  {
   "cell_type": "code",
   "execution_count": 10,
   "metadata": {},
   "outputs": [],
   "source": [
    "X_train, X_test, y_train, y_test = train_test_split(X, y, test_size=0.2, random_state=5)"
   ]
  },
  {
   "cell_type": "code",
   "execution_count": 11,
   "metadata": {},
   "outputs": [
    {
     "data": {
      "text/plain": [
       "(     npreg  glu  bp  skin   bmi    ped  age\n",
       " 323      3  187  70    22  36.4  0.408   36\n",
       " 289      6   98  58    33  34.0  0.430   43\n",
       " 140      3  115  66    39  38.1  0.150   28\n",
       " 276      0  102  78    40  34.5  0.238   24\n",
       " 264      1  124  60    32  35.8  0.514   21\n",
       " ..     ...  ...  ..   ...   ...    ...  ...\n",
       " 9        3  126  88    41  39.3  0.704   27\n",
       " 74       7  102  74    40  37.2  0.204   45\n",
       " 119      2  100  70    52  40.5  0.677   25\n",
       " 190      8  151  78    32  42.9  0.516   36\n",
       " 207      0  124  56    13  21.8  0.452   21\n",
       " \n",
       " [265 rows x 7 columns],\n",
       " 323    Yes\n",
       " 289     No\n",
       " 140     No\n",
       " 276     No\n",
       " 264     No\n",
       "       ... \n",
       " 9       No\n",
       " 74      No\n",
       " 119     No\n",
       " 190    Yes\n",
       " 207     No\n",
       " Name: type, Length: 265, dtype: object)"
      ]
     },
     "execution_count": 11,
     "metadata": {},
     "output_type": "execute_result"
    }
   ],
   "source": [
    "# Print training data\n",
    "X_train, y_train"
   ]
  },
  {
   "cell_type": "code",
   "execution_count": 12,
   "metadata": {},
   "outputs": [
    {
     "data": {
      "text/plain": [
       "(     npreg  glu   bp  skin   bmi    ped  age\n",
       " 54       4   97   60    23  28.2  0.443   22\n",
       " 100      7  181   84    21  35.9  0.586   51\n",
       " 297      7  142   90    24  30.4  0.128   43\n",
       " 227      3   96   78    39  37.3  0.238   40\n",
       " 22       0  180   66    39  42.0  1.893   25\n",
       " 61       8   84   74    31  38.3  0.457   39\n",
       " 241      1   88   78    29  32.0  0.365   29\n",
       " 332      1   93   70    31  30.4  0.315   23\n",
       " 133      2  120   76    37  39.7  0.215   29\n",
       " 57       1   88   30    42  55.0  0.496   26\n",
       " 175      2  127   58    24  27.7  1.600   25\n",
       " 270     11  138   74    26  36.1  0.557   50\n",
       " 163      0   84   64    22  35.8  0.545   21\n",
       " 314      0  126   86    27  27.4  0.515   21\n",
       " 72      17  163   72    41  40.9  0.817   47\n",
       " 260      2   82   52    22  28.5  1.699   25\n",
       " 51       4  144   58    28  29.5  0.287   37\n",
       " 298      3  169   74    19  29.9  0.268   31\n",
       " 116      2  128   64    42  40.0  1.101   24\n",
       " 307     10   94   72    18  23.1  0.595   56\n",
       " 43      15  136   70    32  37.1  0.153   43\n",
       " 286      1  112   80    45  34.8  0.217   24\n",
       " 128      0  107   62    30  36.6  0.757   25\n",
       " 155      1  125   50    40  33.3  0.962   28\n",
       " 139      7  109   80    31  35.9  1.127   43\n",
       " 108      9  124   70    33  35.4  0.282   34\n",
       " 238      3  128   72    25  32.4  0.549   27\n",
       " 194      1   80   74    11  30.0  0.527   22\n",
       " 223      6  154   74    32  29.3  0.839   39\n",
       " 302      5  126   78    27  29.6  0.439   40\n",
       " 109      1  111   86    19  30.1  0.143   23\n",
       " 44       4  123   80    15  32.0  0.443   34\n",
       " 143      1  157   72    21  25.6  0.123   24\n",
       " 63       0   93   60    25  28.7  0.532   22\n",
       " 192      1   95   82    25  35.0  0.233   43\n",
       " 278      7   97   76    32  40.9  0.871   32\n",
       " 265      1  181   78    42  40.0  1.258   22\n",
       " 89       5  109   62    41  35.8  0.514   25\n",
       " 48       1  122   90    51  49.7  0.325   31\n",
       " 197      4  117   64    27  33.2  0.230   24\n",
       " 99       3   74   68    28  29.7  0.293   23\n",
       " 50       1  126   56    29  28.7  0.801   21\n",
       " 261      6  123   72    45  33.6  0.733   34\n",
       " 49       1   81   72    18  26.6  0.283   24\n",
       " 277      1  128   82    17  27.5  0.115   22\n",
       " 67       2   90   70    17  27.3  0.085   22\n",
       " 198      0  180   78    63  59.4  2.420   25\n",
       " 185      4  144   82    32  38.5  0.554   37\n",
       " 201      1   82   64    13  21.2  0.415   23\n",
       " 303     10  129   62    36  41.2  0.441   38\n",
       " 160      5   99   54    28  34.0  0.499   30\n",
       " 76       6  104   74    18  29.9  0.722   41\n",
       " 154      3   99   62    19  21.8  0.279   26\n",
       " 19       3  180   64    25  34.0  0.271   26\n",
       " 25       1  101   50    15  24.2  0.526   26\n",
       " 34       2  100   66    20  32.9  0.867   28\n",
       " 157      5  189   64    33  31.2  0.583   29\n",
       " 325      3  108   62    24  26.0  0.223   25\n",
       " 285      2  101   58    35  21.8  0.155   22\n",
       " 56       2  107   74    30  33.6  0.404   23\n",
       " 213      0  123   88    37  35.2  0.197   29\n",
       " 316      2   99   60    17  36.6  0.453   21\n",
       " 220      4   99   68    38  32.8  0.145   33\n",
       " 196      0  189  104    25  34.3  0.435   41\n",
       " 84       0  108   68    20  27.3  0.787   32\n",
       " 151      1   95   74    21  25.9  0.673   36\n",
       " 77       2   75   64    24  29.7  0.370   33,\n",
       " 54      No\n",
       " 100    Yes\n",
       " 297    Yes\n",
       " 227     No\n",
       " 22     Yes\n",
       " 61      No\n",
       " 241     No\n",
       " 332     No\n",
       " 133     No\n",
       " 57     Yes\n",
       " 175     No\n",
       " 270    Yes\n",
       " 163     No\n",
       " 314     No\n",
       " 72     Yes\n",
       " 260     No\n",
       " 51      No\n",
       " 298    Yes\n",
       " 116     No\n",
       " 307     No\n",
       " 43     Yes\n",
       " 286     No\n",
       " 128    Yes\n",
       " 155    Yes\n",
       " 139    Yes\n",
       " 108     No\n",
       " 238    Yes\n",
       " 194     No\n",
       " 223     No\n",
       " 302     No\n",
       " 109     No\n",
       " 44      No\n",
       " 143     No\n",
       " 63      No\n",
       " 192    Yes\n",
       " 278    Yes\n",
       " 265    Yes\n",
       " 89     Yes\n",
       " 48     Yes\n",
       " 197     No\n",
       " 99      No\n",
       " 50      No\n",
       " 261     No\n",
       " 49      No\n",
       " 277     No\n",
       " 67      No\n",
       " 198    Yes\n",
       " 185    Yes\n",
       " 201     No\n",
       " 303    Yes\n",
       " 160     No\n",
       " 76     Yes\n",
       " 154     No\n",
       " 19      No\n",
       " 25      No\n",
       " 34     Yes\n",
       " 157    Yes\n",
       " 325     No\n",
       " 285     No\n",
       " 56      No\n",
       " 213     No\n",
       " 316     No\n",
       " 220     No\n",
       " 196    Yes\n",
       " 84      No\n",
       " 151     No\n",
       " 77      No\n",
       " Name: type, dtype: object)"
      ]
     },
     "execution_count": 12,
     "metadata": {},
     "output_type": "execute_result"
    }
   ],
   "source": [
    "# Print testing data\n",
    "X_test, y_test"
   ]
  },
  {
   "cell_type": "markdown",
   "metadata": {},
   "source": [
    "## Models\n",
    "\n",
    "Great! Now, let's train our models using the **training data only**.\n",
    "\n",
    "We'll train a 3 models, 1 parametric and 2 nonparametric \n",
    "\n",
    "### Quick aside: Parametric vs. nonparametric models\n",
    "Parametric methods make distributional assumptions about your data, but give you lots of predictive power if those assumptions are met. Nonparametric models make fewer distributional assumptions making them more flexible. However, most nonparametric models actually have hyperparameters that you have to select.\n"
   ]
  },
  {
   "cell_type": "markdown",
   "metadata": {},
   "source": [
    "### Logistic Regression - Classical Model (Stat 111/139/149, CS 109a, CS 181)\n",
    "Characteristics: \n",
    "- Parametric \n",
    "- Very interpretable \n",
    "- Works well on small/medium-sized datasets\n",
    "- Goal during training (Objective Function): Maximize the Likelihood \n",
    "- Optimization algorithm: Newton's Method \n",
    "- Note: Assumes independent observations\n",
    "\n",
    "Note: Ideally, I would do some kind of analysis of deviance to select an ideal set of predictors for my logistic regression... but I'm not going to do that here."
   ]
  },
  {
   "cell_type": "code",
   "execution_count": 453,
   "metadata": {},
   "outputs": [],
   "source": [
    "from sklearn.linear_model import LogisticRegression"
   ]
  },
  {
   "cell_type": "code",
   "execution_count": 454,
   "metadata": {},
   "outputs": [],
   "source": [
    "# Logistic Regression \n",
    "logRegModel = LogisticRegression(random_state=0, multi_class='multinomial', solver='newton-cg',max_iter=1000)"
   ]
  },
  {
   "cell_type": "code",
   "execution_count": 455,
   "metadata": {},
   "outputs": [
    {
     "data": {
      "text/plain": [
       "LogisticRegression(max_iter=1000, multi_class='multinomial', random_state=0,\n",
       "                   solver='newton-cg')"
      ]
     },
     "execution_count": 455,
     "metadata": {},
     "output_type": "execute_result"
    }
   ],
   "source": [
    "# Fit Logistic Regression\n",
    "logRegModel.fit(X_train, y_train)"
   ]
  },
  {
   "cell_type": "code",
   "execution_count": 262,
   "metadata": {},
   "outputs": [],
   "source": [
    "# Get predictions\n",
    "logRegPred = logRegModel.predict(X_test)"
   ]
  },
  {
   "cell_type": "code",
   "execution_count": null,
   "metadata": {},
   "outputs": [],
   "source": []
  },
  {
   "cell_type": "markdown",
   "metadata": {},
   "source": [
    "### k-NN Classifier (CS 109a, CS 181)\n",
    "Characteristics: \n",
    "- Non-parametric\n",
    "- Very interpretable \n",
    "- Works well on small/medium-sized datasets\n",
    "- Goal during training: predict the class of the nearest neighbors \n",
    "    - Choices: How many nearest neighbors? What distance metric? How do you weight neighbors? "
   ]
  },
  {
   "cell_type": "code",
   "execution_count": 263,
   "metadata": {},
   "outputs": [],
   "source": [
    "from sklearn.neighbors import KNeighborsClassifier\n",
    "from sklearn.model_selection import GridSearchCV"
   ]
  },
  {
   "cell_type": "code",
   "execution_count": 264,
   "metadata": {},
   "outputs": [],
   "source": [
    "knnModel = KNeighborsClassifier(n_neighbors=5)"
   ]
  },
  {
   "cell_type": "code",
   "execution_count": 265,
   "metadata": {},
   "outputs": [
    {
     "data": {
      "text/plain": [
       "KNeighborsClassifier()"
      ]
     },
     "execution_count": 265,
     "metadata": {},
     "output_type": "execute_result"
    }
   ],
   "source": [
    "# Fit k-nn Classifier\n",
    "knnModel.fit(X_train, y_train)"
   ]
  },
  {
   "cell_type": "code",
   "execution_count": 280,
   "metadata": {},
   "outputs": [
    {
     "name": "stdout",
     "output_type": "stream",
     "text": [
      "Fitting 5 folds for each of 24 candidates, totalling 120 fits\n"
     ]
    },
    {
     "name": "stderr",
     "output_type": "stream",
     "text": [
      "[Parallel(n_jobs=-1)]: Using backend LokyBackend with 8 concurrent workers.\n",
      "[Parallel(n_jobs=-1)]: Done  56 tasks      | elapsed:    0.2s\n",
      "[Parallel(n_jobs=-1)]: Done 120 out of 120 | elapsed:    0.3s finished\n"
     ]
    }
   ],
   "source": [
    "grid_params = { \n",
    "    'n_neighbors': [3,5,7,9,13,20],\n",
    "    'weights': [\"uniform\", \"distance\"],\n",
    "    'metric': ['euclidean', 'manhattan']\n",
    "}\n",
    "\n",
    "gs = GridSearchCV(\n",
    "    KNeighborsClassifier(), \n",
    "    grid_params, \n",
    "    verbose = 1, \n",
    "    cv = 5, \n",
    "    n_jobs = -1\n",
    "    )\n",
    "\n",
    "gs_results = gs.fit(X_train, y_train)"
   ]
  },
  {
   "cell_type": "code",
   "execution_count": 281,
   "metadata": {},
   "outputs": [
    {
     "data": {
      "text/plain": [
       "{'metric': 'manhattan', 'n_neighbors': 20, 'weights': 'uniform'}"
      ]
     },
     "execution_count": 281,
     "metadata": {},
     "output_type": "execute_result"
    }
   ],
   "source": [
    "gs_results.best_params_"
   ]
  },
  {
   "cell_type": "code",
   "execution_count": 282,
   "metadata": {},
   "outputs": [],
   "source": [
    "knnFinal = gs_results.best_estimator_"
   ]
  },
  {
   "cell_type": "code",
   "execution_count": 308,
   "metadata": {},
   "outputs": [
    {
     "data": {
      "text/plain": [
       "KNeighborsClassifier(metric='manhattan', n_neighbors=20)"
      ]
     },
     "execution_count": 308,
     "metadata": {},
     "output_type": "execute_result"
    }
   ],
   "source": []
  },
  {
   "cell_type": "markdown",
   "metadata": {},
   "source": [
    "### Random Forest (CS 109a, Stat 139, CS 181)\n",
    "Characteristics: \n",
    "- Non-parametric - decision tree based, ensemble method\n",
    "- Hard to interpret\n",
    "- Goal during training: Minimize node cross-entropy \n",
    "    - Choices: Max Features per tree? Max depth of trees? Hyperparameter tuning is challenging "
   ]
  },
  {
   "cell_type": "code",
   "execution_count": 283,
   "metadata": {},
   "outputs": [],
   "source": [
    "from sklearn.ensemble import RandomForestClassifier"
   ]
  },
  {
   "cell_type": "code",
   "execution_count": 284,
   "metadata": {},
   "outputs": [],
   "source": [
    "# Fit Random Forest\n",
    "randomForestModel = RandomForestClassifier(random_state = 0)"
   ]
  },
  {
   "cell_type": "code",
   "execution_count": 285,
   "metadata": {},
   "outputs": [
    {
     "data": {
      "text/plain": [
       "RandomForestClassifier(random_state=0)"
      ]
     },
     "execution_count": 285,
     "metadata": {},
     "output_type": "execute_result"
    }
   ],
   "source": [
    "randomForestModel.fit(X_train, y_train)"
   ]
  },
  {
   "cell_type": "code",
   "execution_count": 37,
   "metadata": {},
   "outputs": [],
   "source": [
    "from pprint import pprint\n",
    "from sklearn.model_selection import RandomizedSearchCV"
   ]
  },
  {
   "cell_type": "code",
   "execution_count": 287,
   "metadata": {},
   "outputs": [
    {
     "name": "stdout",
     "output_type": "stream",
     "text": [
      "{'bootstrap': [True, False],\n",
      " 'max_depth': [10, 20, 30, 40, 50, 60, 70, 80, 90, 100, 110, None],\n",
      " 'max_features': ['auto', 'sqrt'],\n",
      " 'min_samples_leaf': [1, 2, 4],\n",
      " 'min_samples_split': [2, 5, 10],\n",
      " 'n_estimators': [200, 400, 600, 800, 1000, 1200, 1400, 1600, 1800, 2000]}\n"
     ]
    }
   ],
   "source": [
    "# Number of trees in random forest\n",
    "n_estimators = [int(x) for x in np.linspace(start = 200, stop = 2000, num = 10)]\n",
    "# Number of features to consider at every split\n",
    "max_features = ['auto', 'sqrt']\n",
    "# Maximum number of levels in tree\n",
    "max_depth = [int(x) for x in np.linspace(10, 110, num = 11)]\n",
    "max_depth.append(None)\n",
    "# Minimum number of samples required to split a node\n",
    "min_samples_split = [2, 5, 10]\n",
    "# Minimum number of samples required at each leaf node\n",
    "min_samples_leaf = [1, 2, 4]\n",
    "# Method of selecting samples for training each tree\n",
    "bootstrap = [True, False]\n",
    "# Create the random grid\n",
    "random_grid = {'n_estimators': n_estimators,\n",
    "               'max_features': max_features,\n",
    "               'max_depth': max_depth,\n",
    "               'min_samples_split': min_samples_split,\n",
    "               'min_samples_leaf': min_samples_leaf,\n",
    "               'bootstrap': bootstrap}\n",
    "pprint(random_grid)"
   ]
  },
  {
   "cell_type": "code",
   "execution_count": 288,
   "metadata": {},
   "outputs": [
    {
     "name": "stdout",
     "output_type": "stream",
     "text": [
      "Fitting 5 folds for each of 100 candidates, totalling 500 fits\n"
     ]
    },
    {
     "name": "stderr",
     "output_type": "stream",
     "text": [
      "[Parallel(n_jobs=-1)]: Using backend LokyBackend with 8 concurrent workers.\n",
      "[Parallel(n_jobs=-1)]: Done  25 tasks      | elapsed:   11.6s\n",
      "[Parallel(n_jobs=-1)]: Done 146 tasks      | elapsed:   51.3s\n",
      "[Parallel(n_jobs=-1)]: Done 349 tasks      | elapsed:  1.9min\n",
      "[Parallel(n_jobs=-1)]: Done 500 out of 500 | elapsed:  2.7min finished\n"
     ]
    },
    {
     "data": {
      "text/plain": [
       "RandomizedSearchCV(cv=5, estimator=RandomForestClassifier(), n_iter=100,\n",
       "                   n_jobs=-1,\n",
       "                   param_distributions={'bootstrap': [True, False],\n",
       "                                        'max_depth': [10, 20, 30, 40, 50, 60,\n",
       "                                                      70, 80, 90, 100, 110,\n",
       "                                                      None],\n",
       "                                        'max_features': ['auto', 'sqrt'],\n",
       "                                        'min_samples_leaf': [1, 2, 4],\n",
       "                                        'min_samples_split': [2, 5, 10],\n",
       "                                        'n_estimators': [200, 400, 600, 800,\n",
       "                                                         1000, 1200, 1400, 1600,\n",
       "                                                         1800, 2000]},\n",
       "                   random_state=42, verbose=2)"
      ]
     },
     "execution_count": 288,
     "metadata": {},
     "output_type": "execute_result"
    }
   ],
   "source": [
    "rf = RandomForestClassifier()\n",
    "# Random search of parameters, using 3 fold cross validation, \n",
    "# search across 100 different combinations, and use all available cores\n",
    "rf_random = RandomizedSearchCV(estimator = rf, param_distributions = random_grid, n_iter = 100, cv = 5, verbose=2, random_state=42, n_jobs = -1)\n",
    "# Fit the random search model\n",
    "rf_random.fit(X_train, y_train)"
   ]
  },
  {
   "cell_type": "code",
   "execution_count": 302,
   "metadata": {},
   "outputs": [],
   "source": [
    "rf_random.best_params_\n",
    "rf_best = rf_random.best_estimator_\n"
   ]
  },
  {
   "cell_type": "code",
   "execution_count": 304,
   "metadata": {},
   "outputs": [
    {
     "data": {
      "text/plain": [
       "RandomForestClassifier(max_depth=80, max_features='sqrt', min_samples_leaf=4,\n",
       "                       min_samples_split=5, n_estimators=1400)"
      ]
     },
     "execution_count": 304,
     "metadata": {},
     "output_type": "execute_result"
    }
   ],
   "source": [
    "# rf_best.fit(X_train, y_train)"
   ]
  },
  {
   "cell_type": "markdown",
   "metadata": {},
   "source": [
    "## Evaluation\n",
    "\n",
    "Now that have models, we go grab our testing data and start making predictions. Then, we evaluate our predictions using evaluation metrics of our choice. "
   ]
  },
  {
   "cell_type": "code",
   "execution_count": 309,
   "metadata": {},
   "outputs": [],
   "source": [
    "# Log Reg Predictions\n",
    "logRegPred = logRegModel.predict(X_test)\n",
    "\n",
    "# Get k-NN predictions\n",
    "knnPred = knnFinal.predict(X_test)\n",
    "\n",
    "# Random Forest Pred\n",
    "randomForestPred = rf_best.predict(X_test)"
   ]
  },
  {
   "cell_type": "code",
   "execution_count": 310,
   "metadata": {},
   "outputs": [
    {
     "name": "stdout",
     "output_type": "stream",
     "text": [
      "Logistic Regression Prediction 0-1 Loss: 16\n",
      "k-NN Prediction 0-1 Loss: 16\n",
      "Random Forest Classifier 0-1 Loss: 18\n"
     ]
    }
   ],
   "source": [
    "# 0-1 Loss - Low is good\n",
    "print(\"Logistic Regression Prediction 0-1 Loss:\", np.sum(logRegPred != y_test))\n",
    "print(\"k-NN Prediction 0-1 Loss:\", np.sum(knnPred != y_test))\n",
    "print(\"Random Forest Classifier 0-1 Loss:\", np.sum(randomForestPred != y_test)) "
   ]
  },
  {
   "cell_type": "code",
   "execution_count": 311,
   "metadata": {},
   "outputs": [
    {
     "name": "stdout",
     "output_type": "stream",
     "text": [
      "Logistic Regression Prediction F1 Score: 0.7611940298507462\n",
      "k-NN Prediction F1 Score: 0.7611940298507462\n",
      "Random Forest Classifier F1 Score: 0.7313432835820896\n"
     ]
    }
   ],
   "source": [
    "# F1 Score - High is good\n",
    "print(\"Logistic Regression Prediction F1 Score:\", sklearn.metrics.f1_score(y_test, logRegPred,  average='micro'))\n",
    "print(\"k-NN Prediction F1 Score:\", sklearn.metrics.f1_score(knnPred,  y_test, average='micro'))\n",
    "print(\"Random Forest Classifier F1 Score:\", sklearn.metrics.f1_score(y_test, randomForestPredHyperparamTuning,  average='micro'))"
   ]
  },
  {
   "cell_type": "markdown",
   "metadata": {},
   "source": []
  },
  {
   "cell_type": "code",
   "execution_count": null,
   "metadata": {},
   "outputs": [],
   "source": []
  },
  {
   "cell_type": "markdown",
   "metadata": {},
   "source": [
    "# Unsupervised Learning\n",
    "\n",
    "Recall the Iris dataset. Imagine that a helpful florist gave you the dataset, but they totally forgot to label which flower was which. In other words, you have the following dataset: \n",
    "\n",
    "Sources: https://www.kaggle.com/bburns/iris-exploration-pca-k-means-and-gmm-clustering"
   ]
  },
  {
   "cell_type": "code",
   "execution_count": 21,
   "metadata": {},
   "outputs": [],
   "source": [
    "irisUnlabeled = iris.drop(columns = \"Species\")"
   ]
  },
  {
   "cell_type": "code",
   "execution_count": 22,
   "metadata": {},
   "outputs": [],
   "source": [
    "X = irisUnlabeled"
   ]
  },
  {
   "cell_type": "markdown",
   "metadata": {},
   "source": [
    "The florist wants you to answer the following question: \n",
    "- Given these features, can we figure out how many different types of flowers are in our dataset? \n",
    "- Once we get a number of flowers, can we group observations into flower types using our predictors? \n",
    "\n",
    "These questions call for unsupervised learning. First, let's do some feature engineering."
   ]
  },
  {
   "cell_type": "markdown",
   "metadata": {},
   "source": [
    "## Feature Engineering\n",
    "\n",
    "First, let's standardize our predictors so that they're all on the same scale as one another. This will be important for our two methods K-means and Gaussian Mixture Modeling (GMM). "
   ]
  },
  {
   "cell_type": "code",
   "execution_count": 23,
   "metadata": {},
   "outputs": [
    {
     "data": {
      "text/html": [
       "<div>\n",
       "<style scoped>\n",
       "    .dataframe tbody tr th:only-of-type {\n",
       "        vertical-align: middle;\n",
       "    }\n",
       "\n",
       "    .dataframe tbody tr th {\n",
       "        vertical-align: top;\n",
       "    }\n",
       "\n",
       "    .dataframe thead th {\n",
       "        text-align: right;\n",
       "    }\n",
       "</style>\n",
       "<table border=\"1\" class=\"dataframe\">\n",
       "  <thead>\n",
       "    <tr style=\"text-align: right;\">\n",
       "      <th></th>\n",
       "      <th>Sepal.Length</th>\n",
       "      <th>Sepal.Width</th>\n",
       "      <th>Petal.Length</th>\n",
       "      <th>Petal.Width</th>\n",
       "    </tr>\n",
       "  </thead>\n",
       "  <tbody>\n",
       "    <tr>\n",
       "      <th>47</th>\n",
       "      <td>-1.506521</td>\n",
       "      <td>0.328414</td>\n",
       "      <td>-1.340227</td>\n",
       "      <td>-1.315444</td>\n",
       "    </tr>\n",
       "    <tr>\n",
       "      <th>11</th>\n",
       "      <td>-1.264185</td>\n",
       "      <td>0.788808</td>\n",
       "      <td>-1.226552</td>\n",
       "      <td>-1.315444</td>\n",
       "    </tr>\n",
       "    <tr>\n",
       "      <th>125</th>\n",
       "      <td>1.643844</td>\n",
       "      <td>0.328414</td>\n",
       "      <td>1.274295</td>\n",
       "      <td>0.790671</td>\n",
       "    </tr>\n",
       "    <tr>\n",
       "      <th>13</th>\n",
       "      <td>-1.870024</td>\n",
       "      <td>-0.131979</td>\n",
       "      <td>-1.510739</td>\n",
       "      <td>-1.447076</td>\n",
       "    </tr>\n",
       "    <tr>\n",
       "      <th>87</th>\n",
       "      <td>0.553333</td>\n",
       "      <td>-1.743357</td>\n",
       "      <td>0.364896</td>\n",
       "      <td>0.132510</td>\n",
       "    </tr>\n",
       "  </tbody>\n",
       "</table>\n",
       "</div>"
      ],
      "text/plain": [
       "     Sepal.Length  Sepal.Width  Petal.Length  Petal.Width\n",
       "47      -1.506521     0.328414     -1.340227    -1.315444\n",
       "11      -1.264185     0.788808     -1.226552    -1.315444\n",
       "125      1.643844     0.328414      1.274295     0.790671\n",
       "13      -1.870024    -0.131979     -1.510739    -1.447076\n",
       "87       0.553333    -1.743357      0.364896     0.132510"
      ]
     },
     "execution_count": 23,
     "metadata": {},
     "output_type": "execute_result"
    }
   ],
   "source": [
    "# Standardize your dataset\n",
    "from sklearn import preprocessing\n",
    "\n",
    "scaler = preprocessing.StandardScaler()\n",
    "\n",
    "scaler.fit(X)\n",
    "X_scaled_array = scaler.transform(X)\n",
    "X_scaled = pd.DataFrame(X_scaled_array, columns = X.columns)\n",
    "\n",
    "X_scaled.sample(5)"
   ]
  },
  {
   "attachments": {
    "346c84c6-ebd0-4aef-9719-39bb5f2090b6.png": {
     "image/png": "[encoded data removed]"
    }
   },
   "cell_type": "markdown",
   "metadata": {},
   "source": [
    "## K-Means\n",
    "\n",
    "K-means algorithm \n",
    "1. Initialize K centroid points randomly \n",
    "2. Assign each object to the cluster of the nearest seed point measured with a specific distance metric (in our case Euclidean distance)\n",
    "3. Compute new seed points as the centroids of the clusters of the current partition \n",
    "4. Go back to step 2, stop when no more new assignment. \n",
    "\n",
    "![image.png](attachment:346c84c6-ebd0-4aef-9719-39bb5f2090b6.png)\n",
    "\n",
    "Source: Stat 143 course notes, Image: https://stanford.edu/~cpiech/cs221/handouts/kmeans.html\n"
   ]
  },
  {
   "cell_type": "code",
   "execution_count": 24,
   "metadata": {},
   "outputs": [
    {
     "name": "stdout",
     "output_type": "stream",
     "text": [
      "[1 3 3 3 1 1 3 3 3 3 1 3 3 3 1 1 1 1 1 1 1 1 1 3 3 3 1 1 1 3 3 1 1 1 3 3 1\n",
      " 1 3 1 1 3 3 1 1 3 1 3 1 3 2 0 2 4 0 0 0 4 0 4 4 0 4 0 0 0 0 4 4 4 0 0 0 0\n",
      " 0 0 0 2 0 4 4 4 4 0 0 0 0 4 0 4 4 0 4 4 4 0 0 0 4 0 2 0 2 0 2 2 4 2 0 2 2\n",
      " 0 2 0 0 2 2 2 2 4 2 0 2 0 2 2 0 0 0 2 2 2 2 0 0 2 2 2 0 2 2 2 0 2 2 2 0 2\n",
      " 2 0]\n"
     ]
    },
    {
     "data": {
      "text/plain": [
       "array([[ 3.08304915e-01, -4.18446566e-01,  5.50565209e-01,\n",
       "         5.06930168e-01],\n",
       "       [-7.39124010e-01,  1.45382047e+00, -1.29812473e+00,\n",
       "        -1.21793897e+00],\n",
       "       [ 1.30885058e+00,  1.72692711e-01,  1.12384310e+00,\n",
       "         1.17395260e+00],\n",
       "       [-1.33793914e+00,  1.48260062e-01, -1.31304341e+00,\n",
       "        -1.29827488e+00],\n",
       "       [-3.64080601e-01, -1.41450432e+00,  1.07774588e-01,\n",
       "         8.77547895e-04]])"
      ]
     },
     "execution_count": 24,
     "metadata": {},
     "output_type": "execute_result"
    }
   ],
   "source": [
    "from sklearn.cluster import KMeans\n",
    " \n",
    "kmeans5 = KMeans(n_clusters=5)\n",
    "y_kmeans5 = kmeans5.fit_predict(X_scaled)\n",
    "print(y_kmeans5)\n",
    "\n",
    "kmeans5.cluster_centers_"
   ]
  },
  {
   "cell_type": "markdown",
   "metadata": {},
   "source": [
    "## How do we choose k? \n",
    "\n",
    "Here, we use the elbow method to choose k. We fit k-Means clustering algorithms for a number of k values and plot the within-cluster sum of squared error. This is a metric of how good our clustering algorithm is. Usually, an elbow appears in this plot, and we choose the value of k at the elbow. Below, we seethat our elbow appears around 3. "
   ]
  },
  {
   "cell_type": "code",
   "execution_count": 25,
   "metadata": {},
   "outputs": [
    {
     "data": {
      "image/png": "[encoded data removed]",
      "text/plain": [
       "<Figure size 432x288 with 1 Axes>"
      ]
     },
     "metadata": {
      "needs_background": "light"
     },
     "output_type": "display_data"
    }
   ],
   "source": [
    "Error =[]\n",
    "for i in range(1, 11):\n",
    "    kmeans = KMeans(n_clusters = i)\n",
    "    kmeans.fit(X_scaled)\n",
    "    Error.append(kmeans.inertia_)\n",
    "import matplotlib.pyplot as plt\n",
    "plt.plot(range(1, 11), Error)\n",
    "plt.title('Elbow method')\n",
    "plt.xlabel('No of clusters')\n",
    "plt.ylabel('Error')\n",
    "plt.show()"
   ]
  },
  {
   "cell_type": "code",
   "execution_count": 26,
   "metadata": {},
   "outputs": [
    {
     "name": "stdout",
     "output_type": "stream",
     "text": [
      "[0 0 0 0 0 0 0 0 0 0 0 0 0 0 0 0 0 0 0 0 0 0 0 0 0 0 0 0 0 0 0 0 0 0 0 0 0\n",
      " 0 0 0 0 0 0 0 0 0 0 0 0 0 1 1 1 2 2 2 1 2 2 2 2 2 2 2 2 1 2 2 2 2 1 2 2 2\n",
      " 2 1 1 1 2 2 2 2 2 2 2 1 1 2 2 2 2 2 2 2 2 2 2 2 2 2 1 2 1 1 1 1 2 1 1 1 1\n",
      " 1 1 2 2 1 1 1 1 2 1 2 1 2 1 1 2 1 1 1 1 1 1 2 2 1 1 1 2 1 1 1 2 1 1 1 2 1\n",
      " 1 2]\n"
     ]
    },
    {
     "data": {
      "text/plain": [
       "array([[-1.01457897,  0.85326268, -1.30498732, -1.25489349],\n",
       "       [ 1.13597027,  0.08842168,  0.99615451,  1.01752612],\n",
       "       [-0.05021989, -0.88337647,  0.34773781,  0.2815273 ]])"
      ]
     },
     "execution_count": 26,
     "metadata": {},
     "output_type": "execute_result"
    }
   ],
   "source": [
    "kmeans3 = KMeans(n_clusters=3)\n",
    "y_kmeans3 = kmeans3.fit_predict(X_scaled)\n",
    "print(y_kmeans3)\n",
    "\n",
    "kmeans3.cluster_centers_"
   ]
  },
  {
   "cell_type": "code",
   "execution_count": null,
   "metadata": {},
   "outputs": [],
   "source": []
  },
  {
   "cell_type": "code",
   "execution_count": 27,
   "metadata": {},
   "outputs": [
    {
     "data": {
      "image/png": "[encoded data removed]",
      "text/plain": [
       "<Figure size 330.375x288 with 1 Axes>"
      ]
     },
     "metadata": {
      "needs_background": "light"
     },
     "output_type": "display_data"
    }
   ],
   "source": [
    "Xcopy = X.copy()\n",
    "Xcopy[\"Label\"] = y_kmeans3\n",
    "\n",
    "g = sns.FacetGrid(Xcopy, hue=\"Label\", height=4) \\\n",
    "   .map(plt.scatter, \"Sepal.Length\", \"Sepal.Width\") \\\n",
    "   .add_legend() \\\n",
    "   .fig.suptitle('k-Means Clustering');"
   ]
  },
  {
   "cell_type": "code",
   "execution_count": 28,
   "metadata": {},
   "outputs": [
    {
     "data": {
      "image/png": "[encoded data removed]",
      "text/plain": [
       "<Figure size 372.75x288 with 1 Axes>"
      ]
     },
     "metadata": {
      "needs_background": "light"
     },
     "output_type": "display_data"
    }
   ],
   "source": [
    "import seaborn as sns\n",
    "sns.FacetGrid(iris, hue=\"Species\", height=4) \\\n",
    "   .map(plt.scatter, \"Sepal.Length\", \"Sepal.Width\") \\\n",
    "   .add_legend() \\\n",
    "   .fig.suptitle('Actual Labels');"
   ]
  },
  {
   "cell_type": "code",
   "execution_count": null,
   "metadata": {},
   "outputs": [],
   "source": []
  },
  {
   "cell_type": "markdown",
   "metadata": {},
   "source": [
    "## Another approach is Gaussian Mixture Modeling \n",
    "GMMs assume that you have n clusters that come n multivariate normal distributions. To find the parameters of these multivariate normals, we use an Expectation-Maximization algorithm. The upshot of GMMs relative to K-means is that we can get uncertainty. We can now answer questions, given a datapoint $x_n$, what's the probability that it came from cluster $k$. \n",
    "\n",
    "Source: https://towardsdatascience.com/gaussian-mixture-models-explained-6986aaf5a95"
   ]
  },
  {
   "cell_type": "code",
   "execution_count": 30,
   "metadata": {},
   "outputs": [
    {
     "data": {
      "text/plain": [
       "array([0, 0, 0, 0, 0, 0, 0, 0, 0, 0, 0, 0, 0, 0, 0, 0, 0, 0, 0, 0, 0, 0,\n",
       "       0, 0, 0, 0, 0, 0, 0, 0, 0, 0, 0, 0, 0, 0, 0, 0, 0, 0, 0, 0, 0, 0,\n",
       "       0, 0, 0, 0, 0, 0, 2, 2, 2, 2, 2, 2, 2, 2, 2, 2, 2, 2, 2, 2, 2, 2,\n",
       "       2, 2, 1, 2, 1, 2, 1, 2, 2, 2, 2, 1, 2, 2, 2, 2, 2, 1, 2, 2, 2, 2,\n",
       "       2, 2, 2, 2, 2, 2, 2, 2, 2, 2, 2, 2, 1, 1, 1, 1, 1, 1, 1, 1, 1, 1,\n",
       "       1, 1, 1, 1, 1, 1, 1, 1, 1, 1, 1, 1, 1, 1, 1, 1, 1, 1, 1, 1, 1, 1,\n",
       "       1, 1, 1, 1, 1, 1, 1, 1, 1, 1, 1, 1, 1, 1, 1, 1, 1, 1])"
      ]
     },
     "execution_count": 30,
     "metadata": {},
     "output_type": "execute_result"
    }
   ],
   "source": [
    "from sklearn.mixture import GaussianMixture\n",
    "\n",
    "gmm = GaussianMixture(n_components=3, covariance_type='full', max_iter=50, random_state =0)\n",
    "gmm.fit(X_scaled)\n",
    "\n",
    "# predict the cluster for each data point\n",
    "y_cluster_gmm = gmm.predict(X_scaled)\n",
    "y_cluster_gmm"
   ]
  },
  {
   "cell_type": "code",
   "execution_count": 34,
   "metadata": {},
   "outputs": [
    {
     "data": {
      "text/plain": [
       "Text(0.5, 0.98, 'Gaussian Mixture Models')"
      ]
     },
     "execution_count": 34,
     "metadata": {},
     "output_type": "execute_result"
    },
    {
     "data": {
      "image/png": "[encoded data removed]",
      "text/plain": [
       "<Figure size 330.375x288 with 1 Axes>"
      ]
     },
     "metadata": {
      "needs_background": "light"
     },
     "output_type": "display_data"
    }
   ],
   "source": [
    "Xcopy = X.copy()\n",
    "Xcopy[\"Label\"] = y_cluster_gmm\n",
    "g = sns.FacetGrid(Xcopy, hue=\"Label\", height=4) \\\n",
    "   .map(plt.scatter, \"Sepal.Length\", \"Sepal.Width\") \\\n",
    "   .add_legend();\n",
    "g.fig.suptitle('Gaussian Mixture Models')"
   ]
  },
  {
   "cell_type": "markdown",
   "metadata": {},
   "source": [
    "Like we mentioned, the upshot for GMMs is that you get uncertainty estimation for your probabilities of being in each cluster.  "
   ]
  },
  {
   "cell_type": "code",
   "execution_count": 40,
   "metadata": {},
   "outputs": [
    {
     "name": "stdout",
     "output_type": "stream",
     "text": [
      "array([[1.   , 0.   , 0.   ],\n",
      "       [1.   , 0.   , 0.   ],\n",
      "       [1.   , 0.   , 0.   ],\n",
      "       [1.   , 0.   , 0.   ],\n",
      "       [1.   , 0.   , 0.   ],\n",
      "       [1.   , 0.   , 0.   ],\n",
      "       [1.   , 0.   , 0.   ],\n",
      "       [1.   , 0.   , 0.   ],\n",
      "       [1.   , 0.   , 0.   ],\n",
      "       [1.   , 0.   , 0.   ],\n",
      "       [1.   , 0.   , 0.   ],\n",
      "       [1.   , 0.   , 0.   ],\n",
      "       [1.   , 0.   , 0.   ],\n",
      "       [1.   , 0.   , 0.   ],\n",
      "       [1.   , 0.   , 0.   ],\n",
      "       [1.   , 0.   , 0.   ],\n",
      "       [1.   , 0.   , 0.   ],\n",
      "       [1.   , 0.   , 0.   ],\n",
      "       [1.   , 0.   , 0.   ],\n",
      "       [1.   , 0.   , 0.   ],\n",
      "       [1.   , 0.   , 0.   ],\n",
      "       [1.   , 0.   , 0.   ],\n",
      "       [1.   , 0.   , 0.   ],\n",
      "       [1.   , 0.   , 0.   ],\n",
      "       [1.   , 0.   , 0.   ],\n",
      "       [1.   , 0.   , 0.   ],\n",
      "       [1.   , 0.   , 0.   ],\n",
      "       [1.   , 0.   , 0.   ],\n",
      "       [1.   , 0.   , 0.   ],\n",
      "       [1.   , 0.   , 0.   ],\n",
      "       [1.   , 0.   , 0.   ],\n",
      "       [1.   , 0.   , 0.   ],\n",
      "       [1.   , 0.   , 0.   ],\n",
      "       [1.   , 0.   , 0.   ],\n",
      "       [1.   , 0.   , 0.   ],\n",
      "       [1.   , 0.   , 0.   ],\n",
      "       [1.   , 0.   , 0.   ],\n",
      "       [1.   , 0.   , 0.   ],\n",
      "       [1.   , 0.   , 0.   ],\n",
      "       [1.   , 0.   , 0.   ],\n",
      "       [1.   , 0.   , 0.   ],\n",
      "       [1.   , 0.   , 0.   ],\n",
      "       [1.   , 0.   , 0.   ],\n",
      "       [1.   , 0.   , 0.   ],\n",
      "       [1.   , 0.   , 0.   ],\n",
      "       [1.   , 0.   , 0.   ],\n",
      "       [1.   , 0.   , 0.   ],\n",
      "       [1.   , 0.   , 0.   ],\n",
      "       [1.   , 0.   , 0.   ],\n",
      "       [1.   , 0.   , 0.   ],\n",
      "       [0.   , 0.   , 1.   ],\n",
      "       [0.   , 0.001, 0.999],\n",
      "       [0.   , 0.005, 0.995],\n",
      "       [0.   , 0.061, 0.939],\n",
      "       [0.   , 0.026, 0.974],\n",
      "       [0.   , 0.029, 0.971],\n",
      "       [0.   , 0.012, 0.988],\n",
      "       [0.   , 0.   , 1.   ],\n",
      "       [0.   , 0.001, 0.999],\n",
      "       [0.   , 0.03 , 0.97 ],\n",
      "       [0.   , 0.002, 0.998],\n",
      "       [0.   , 0.007, 0.993],\n",
      "       [0.   , 0.001, 0.999],\n",
      "       [0.   , 0.03 , 0.97 ],\n",
      "       [0.   , 0.   , 1.   ],\n",
      "       [0.   , 0.   , 1.   ],\n",
      "       [0.   , 0.071, 0.929],\n",
      "       [0.   , 0.003, 0.997],\n",
      "       [0.   , 0.996, 0.004],\n",
      "       [0.   , 0.   , 1.   ],\n",
      "       [0.   , 0.94 , 0.06 ],\n",
      "       [0.   , 0.   , 1.   ],\n",
      "       [0.   , 0.949, 0.051],\n",
      "       [0.   , 0.079, 0.921],\n",
      "       [0.   , 0.   , 1.   ],\n",
      "       [0.   , 0.   , 1.   ],\n",
      "       [0.   , 0.011, 0.989],\n",
      "       [0.   , 0.63 , 0.37 ],\n",
      "       [0.   , 0.032, 0.968],\n",
      "       [0.   , 0.   , 1.   ],\n",
      "       [0.   , 0.   , 1.   ],\n",
      "       [0.   , 0.   , 1.   ],\n",
      "       [0.   , 0.   , 1.   ],\n",
      "       [0.   , 0.992, 0.008],\n",
      "       [0.   , 0.142, 0.858],\n",
      "       [0.   , 0.012, 0.988],\n",
      "       [0.   , 0.002, 0.998],\n",
      "       [0.   , 0.069, 0.931],\n",
      "       [0.   , 0.001, 0.999],\n",
      "       [0.   , 0.009, 0.991],\n",
      "       [0.   , 0.055, 0.945],\n",
      "       [0.   , 0.008, 0.992],\n",
      "       [0.   , 0.   , 1.   ],\n",
      "       [0.   , 0.   , 1.   ],\n",
      "       [0.   , 0.006, 0.994],\n",
      "       [0.   , 0.002, 0.998],\n",
      "       [0.   , 0.002, 0.998],\n",
      "       [0.   , 0.   , 1.   ],\n",
      "       [0.   , 0.   , 1.   ],\n",
      "       [0.   , 0.001, 0.999],\n",
      "       [0.   , 1.   , 0.   ],\n",
      "       [0.   , 1.   , 0.   ],\n",
      "       [0.   , 1.   , 0.   ],\n",
      "       [0.   , 1.   , 0.   ],\n",
      "       [0.   , 1.   , 0.   ],\n",
      "       [0.   , 1.   , 0.   ],\n",
      "       [0.   , 1.   , 0.   ],\n",
      "       [0.   , 1.   , 0.   ],\n",
      "       [0.   , 1.   , 0.   ],\n",
      "       [0.   , 1.   , 0.   ],\n",
      "       [0.   , 1.   , 0.   ],\n",
      "       [0.   , 1.   , 0.   ],\n",
      "       [0.   , 1.   , 0.   ],\n",
      "       [0.   , 1.   , 0.   ],\n",
      "       [0.   , 1.   , 0.   ],\n",
      "       [0.   , 1.   , 0.   ],\n",
      "       [0.   , 0.999, 0.001],\n",
      "       [0.   , 1.   , 0.   ],\n",
      "       [0.   , 1.   , 0.   ],\n",
      "       [0.   , 1.   , 0.   ],\n",
      "       [0.   , 1.   , 0.   ],\n",
      "       [0.   , 1.   , 0.   ],\n",
      "       [0.   , 1.   , 0.   ],\n",
      "       [0.   , 1.   , 0.   ],\n",
      "       [0.   , 1.   , 0.   ],\n",
      "       [0.   , 0.999, 0.001],\n",
      "       [0.   , 1.   , 0.   ],\n",
      "       [0.   , 0.993, 0.007],\n",
      "       [0.   , 1.   , 0.   ],\n",
      "       [0.   , 0.995, 0.005],\n",
      "       [0.   , 1.   , 0.   ],\n",
      "       [0.   , 0.993, 0.007],\n",
      "       [0.   , 1.   , 0.   ],\n",
      "       [0.   , 0.76 , 0.24 ],\n",
      "       [0.   , 1.   , 0.   ],\n",
      "       [0.   , 1.   , 0.   ],\n",
      "       [0.   , 1.   , 0.   ],\n",
      "       [0.   , 0.997, 0.003],\n",
      "       [0.   , 0.993, 0.007],\n",
      "       [0.   , 1.   , 0.   ],\n",
      "       [0.   , 1.   , 0.   ],\n",
      "       [0.   , 1.   , 0.   ],\n",
      "       [0.   , 1.   , 0.   ],\n",
      "       [0.   , 1.   , 0.   ],\n",
      "       [0.   , 1.   , 0.   ],\n",
      "       [0.   , 1.   , 0.   ],\n",
      "       [0.   , 1.   , 0.   ],\n",
      "       [0.   , 1.   , 0.   ],\n",
      "       [0.   , 1.   , 0.   ],\n",
      "       [0.   , 0.998, 0.002]])\n"
     ]
    }
   ],
   "source": [
    "y_scores = gmm.predict_proba(X_scaled)\n",
    "pprint(np.round(y_scores,3))"
   ]
  },
  {
   "cell_type": "markdown",
   "metadata": {},
   "source": [
    "Note that neither k-Means nor GMM gives you any insight into what the clusters actually mean. It's your job to use your domain knowledge to acertain what is actually going on with these clusters/make interpretations. "
   ]
  },
  {
   "cell_type": "code",
   "execution_count": null,
   "metadata": {},
   "outputs": [],
   "source": []
  },
  {
   "cell_type": "code",
   "execution_count": null,
   "metadata": {},
   "outputs": [],
   "source": []
  },
  {
   "cell_type": "code",
   "execution_count": null,
   "metadata": {},
   "outputs": [],
   "source": []
  },
  {
   "cell_type": "code",
   "execution_count": null,
   "metadata": {},
   "outputs": [],
   "source": []
  },
  {
   "cell_type": "code",
   "execution_count": null,
   "metadata": {},
   "outputs": [],
   "source": []
  },
  {
   "cell_type": "markdown",
   "metadata": {},
   "source": [
    "Sources:\n",
    "- Course notes from previous classes including but not limited to Stat 111, 139, 143, 149, 195; CS 109a/b, CS 181; MIT 6.036 \n",
    "- Shoutout to Medium, pay $50 for a subscription it's lit\n",
    "- Iris dataset exploration, https://www.kaggle.com/bburns/iris-exploration-pca-k-means-and-gmm-clustering\n",
    "- GMMs, https://towardsdatascience.com/gaussian-mixture-models-explained-6986aaf5a95"
   ]
  },
  {
   "cell_type": "code",
   "execution_count": null,
   "metadata": {},
   "outputs": [],
   "source": []
  }
 ],
 "metadata": {
  "kernelspec": {
   "display_name": "Python 3",
   "language": "python",
   "name": "python3"
  },
  "language_info": {
   "codemirror_mode": {
    "name": "ipython",
    "version": 3
   },
   "file_extension": ".py",
   "mimetype": "text/x-python",
   "name": "python",
   "nbconvert_exporter": "python",
   "pygments_lexer": "ipython3",
   "version": "3.7.3"
  }
 },
 "nbformat": 4,
 "nbformat_minor": 4
}
